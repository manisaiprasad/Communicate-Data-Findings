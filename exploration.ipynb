{
 "cells": [
  {
   "cell_type": "markdown",
   "metadata": {},
   "source": [
    "# US Flights of 2020 Jan\n",
    "\n",
    "## by Mani Sai Prasad\n",
    "\n",
    "## Preliminary Wrangling\n",
    "\n",
    "> This document explores a dataset containing flights in the United States, including carriers, arrival and departure delays in 2020. https://www.transtats.bts.gov/DL_SelectFields.asp?Table_ID=                                 \n",
    "The report will gather & analyze flights of 2020 Jan which is (607346) observations by resolve the following questions:-\n",
    "* what is the rate of delayed and cancelled flighes?\n",
    "* what are the best airlines in terms of delayed and cancelled flighes?\n",
    "* what are the best flights in terms of delayed and cancelled flighes?"
   ]
  },
  {
   "cell_type": "code",
   "execution_count": 42,
   "metadata": {},
   "outputs": [],
   "source": [
    "# import all packages and set plots to be embedded inline\n",
    "import numpy as np\n",
    "import pandas as pd\n",
    "import matplotlib.pyplot as plt\n",
    "import seaborn as sb\n",
    "\n",
    "%matplotlib inline"
   ]
  },
  {
   "cell_type": "markdown",
   "metadata": {},
   "source": [
    "> Load in your dataset and describe its properties through the questions below.\n",
    "Try and motivate your exploration goals through this section."
   ]
  },
  {
   "cell_type": "code",
   "execution_count": 77,
   "metadata": {},
   "outputs": [
    {
     "data": {
      "text/html": [
       "<div>\n",
       "<style scoped>\n",
       "    .dataframe tbody tr th:only-of-type {\n",
       "        vertical-align: middle;\n",
       "    }\n",
       "\n",
       "    .dataframe tbody tr th {\n",
       "        vertical-align: top;\n",
       "    }\n",
       "\n",
       "    .dataframe thead th {\n",
       "        text-align: right;\n",
       "    }\n",
       "</style>\n",
       "<table border=\"1\" class=\"dataframe\">\n",
       "  <thead>\n",
       "    <tr style=\"text-align: right;\">\n",
       "      <th></th>\n",
       "      <th>YEAR</th>\n",
       "      <th>MONTH</th>\n",
       "      <th>DAY_OF_MONTH</th>\n",
       "      <th>DAY_OF_WEEK</th>\n",
       "      <th>OP_UNIQUE_CARRIER</th>\n",
       "      <th>TAIL_NUM</th>\n",
       "      <th>OP_CARRIER_FL_NUM</th>\n",
       "      <th>ORIGIN_AIRPORT_ID</th>\n",
       "      <th>ORIGIN_AIRPORT_SEQ_ID</th>\n",
       "      <th>ORIGIN_CITY_MARKET_ID</th>\n",
       "      <th>...</th>\n",
       "      <th>ACTUAL_ELAPSED_TIME</th>\n",
       "      <th>AIR_TIME</th>\n",
       "      <th>FLIGHTS</th>\n",
       "      <th>DISTANCE</th>\n",
       "      <th>CARRIER_DELAY</th>\n",
       "      <th>WEATHER_DELAY</th>\n",
       "      <th>NAS_DELAY</th>\n",
       "      <th>SECURITY_DELAY</th>\n",
       "      <th>LATE_AIRCRAFT_DELAY</th>\n",
       "      <th>Unnamed: 44</th>\n",
       "    </tr>\n",
       "  </thead>\n",
       "  <tbody>\n",
       "    <tr>\n",
       "      <th>0</th>\n",
       "      <td>2020</td>\n",
       "      <td>1</td>\n",
       "      <td>1</td>\n",
       "      <td>3</td>\n",
       "      <td>WN</td>\n",
       "      <td>N951WN</td>\n",
       "      <td>5888</td>\n",
       "      <td>13891</td>\n",
       "      <td>1389101</td>\n",
       "      <td>32575</td>\n",
       "      <td>...</td>\n",
       "      <td>122.0</td>\n",
       "      <td>74.0</td>\n",
       "      <td>1.0</td>\n",
       "      <td>363.0</td>\n",
       "      <td>8.0</td>\n",
       "      <td>0.0</td>\n",
       "      <td>27.0</td>\n",
       "      <td>0.0</td>\n",
       "      <td>33.0</td>\n",
       "      <td>NaN</td>\n",
       "    </tr>\n",
       "    <tr>\n",
       "      <th>1</th>\n",
       "      <td>2020</td>\n",
       "      <td>1</td>\n",
       "      <td>1</td>\n",
       "      <td>3</td>\n",
       "      <td>WN</td>\n",
       "      <td>N467WN</td>\n",
       "      <td>6276</td>\n",
       "      <td>13891</td>\n",
       "      <td>1389101</td>\n",
       "      <td>32575</td>\n",
       "      <td>...</td>\n",
       "      <td>92.0</td>\n",
       "      <td>71.0</td>\n",
       "      <td>1.0</td>\n",
       "      <td>363.0</td>\n",
       "      <td>NaN</td>\n",
       "      <td>NaN</td>\n",
       "      <td>NaN</td>\n",
       "      <td>NaN</td>\n",
       "      <td>NaN</td>\n",
       "      <td>NaN</td>\n",
       "    </tr>\n",
       "    <tr>\n",
       "      <th>2</th>\n",
       "      <td>2020</td>\n",
       "      <td>1</td>\n",
       "      <td>1</td>\n",
       "      <td>3</td>\n",
       "      <td>WN</td>\n",
       "      <td>N7885A</td>\n",
       "      <td>4598</td>\n",
       "      <td>13891</td>\n",
       "      <td>1389101</td>\n",
       "      <td>32575</td>\n",
       "      <td>...</td>\n",
       "      <td>68.0</td>\n",
       "      <td>57.0</td>\n",
       "      <td>1.0</td>\n",
       "      <td>333.0</td>\n",
       "      <td>NaN</td>\n",
       "      <td>NaN</td>\n",
       "      <td>NaN</td>\n",
       "      <td>NaN</td>\n",
       "      <td>NaN</td>\n",
       "      <td>NaN</td>\n",
       "    </tr>\n",
       "    <tr>\n",
       "      <th>3</th>\n",
       "      <td>2020</td>\n",
       "      <td>1</td>\n",
       "      <td>1</td>\n",
       "      <td>3</td>\n",
       "      <td>WN</td>\n",
       "      <td>N551WN</td>\n",
       "      <td>4761</td>\n",
       "      <td>13891</td>\n",
       "      <td>1389101</td>\n",
       "      <td>32575</td>\n",
       "      <td>...</td>\n",
       "      <td>75.0</td>\n",
       "      <td>63.0</td>\n",
       "      <td>1.0</td>\n",
       "      <td>333.0</td>\n",
       "      <td>NaN</td>\n",
       "      <td>NaN</td>\n",
       "      <td>NaN</td>\n",
       "      <td>NaN</td>\n",
       "      <td>NaN</td>\n",
       "      <td>NaN</td>\n",
       "    </tr>\n",
       "    <tr>\n",
       "      <th>4</th>\n",
       "      <td>2020</td>\n",
       "      <td>1</td>\n",
       "      <td>1</td>\n",
       "      <td>3</td>\n",
       "      <td>WN</td>\n",
       "      <td>N968WN</td>\n",
       "      <td>5162</td>\n",
       "      <td>13891</td>\n",
       "      <td>1389101</td>\n",
       "      <td>32575</td>\n",
       "      <td>...</td>\n",
       "      <td>67.0</td>\n",
       "      <td>57.0</td>\n",
       "      <td>1.0</td>\n",
       "      <td>333.0</td>\n",
       "      <td>NaN</td>\n",
       "      <td>NaN</td>\n",
       "      <td>NaN</td>\n",
       "      <td>NaN</td>\n",
       "      <td>NaN</td>\n",
       "      <td>NaN</td>\n",
       "    </tr>\n",
       "  </tbody>\n",
       "</table>\n",
       "<p>5 rows × 45 columns</p>\n",
       "</div>"
      ],
      "text/plain": [
       "   YEAR  MONTH  DAY_OF_MONTH  DAY_OF_WEEK OP_UNIQUE_CARRIER TAIL_NUM  \\\n",
       "0  2020      1             1            3                WN   N951WN   \n",
       "1  2020      1             1            3                WN   N467WN   \n",
       "2  2020      1             1            3                WN   N7885A   \n",
       "3  2020      1             1            3                WN   N551WN   \n",
       "4  2020      1             1            3                WN   N968WN   \n",
       "\n",
       "   OP_CARRIER_FL_NUM  ORIGIN_AIRPORT_ID  ORIGIN_AIRPORT_SEQ_ID  \\\n",
       "0               5888              13891                1389101   \n",
       "1               6276              13891                1389101   \n",
       "2               4598              13891                1389101   \n",
       "3               4761              13891                1389101   \n",
       "4               5162              13891                1389101   \n",
       "\n",
       "   ORIGIN_CITY_MARKET_ID  ... ACTUAL_ELAPSED_TIME AIR_TIME  FLIGHTS DISTANCE  \\\n",
       "0                  32575  ...               122.0     74.0      1.0    363.0   \n",
       "1                  32575  ...                92.0     71.0      1.0    363.0   \n",
       "2                  32575  ...                68.0     57.0      1.0    333.0   \n",
       "3                  32575  ...                75.0     63.0      1.0    333.0   \n",
       "4                  32575  ...                67.0     57.0      1.0    333.0   \n",
       "\n",
       "   CARRIER_DELAY  WEATHER_DELAY  NAS_DELAY SECURITY_DELAY LATE_AIRCRAFT_DELAY  \\\n",
       "0            8.0            0.0       27.0            0.0                33.0   \n",
       "1            NaN            NaN        NaN            NaN                 NaN   \n",
       "2            NaN            NaN        NaN            NaN                 NaN   \n",
       "3            NaN            NaN        NaN            NaN                 NaN   \n",
       "4            NaN            NaN        NaN            NaN                 NaN   \n",
       "\n",
       "   Unnamed: 44  \n",
       "0          NaN  \n",
       "1          NaN  \n",
       "2          NaN  \n",
       "3          NaN  \n",
       "4          NaN  \n",
       "\n",
       "[5 rows x 45 columns]"
      ]
     },
     "execution_count": 77,
     "metadata": {},
     "output_type": "execute_result"
    }
   ],
   "source": [
    "df = pd.read_csv('./62598021_T_ONTIME_REPORTING.csv')\n",
    "df.head()"
   ]
  },
  {
   "cell_type": "code",
   "execution_count": 78,
   "metadata": {},
   "outputs": [
    {
     "data": {
      "text/plain": [
       "(607346, 45)"
      ]
     },
     "execution_count": 78,
     "metadata": {},
     "output_type": "execute_result"
    }
   ],
   "source": [
    "df.shape"
   ]
  },
  {
   "cell_type": "code",
   "execution_count": 79,
   "metadata": {},
   "outputs": [
    {
     "data": {
      "text/plain": [
       "YEAR                       int64\n",
       "MONTH                      int64\n",
       "DAY_OF_MONTH               int64\n",
       "DAY_OF_WEEK                int64\n",
       "OP_UNIQUE_CARRIER         object\n",
       "TAIL_NUM                  object\n",
       "OP_CARRIER_FL_NUM          int64\n",
       "ORIGIN_AIRPORT_ID          int64\n",
       "ORIGIN_AIRPORT_SEQ_ID      int64\n",
       "ORIGIN_CITY_MARKET_ID      int64\n",
       "ORIGIN                    object\n",
       "ORIGIN_STATE_ABR          object\n",
       "ORIGIN_STATE_FIPS          int64\n",
       "ORIGIN_STATE_NM           object\n",
       "DEST_AIRPORT_ID            int64\n",
       "DEST_AIRPORT_SEQ_ID        int64\n",
       "DEST_CITY_MARKET_ID        int64\n",
       "DEST                      object\n",
       "DEST_STATE_ABR            object\n",
       "DEST_STATE_FIPS            int64\n",
       "DEST_STATE_NM             object\n",
       "CRS_DEP_TIME               int64\n",
       "DEP_TIME                 float64\n",
       "DEP_DELAY                float64\n",
       "DEP_DELAY_NEW            float64\n",
       "TAXI_OUT                 float64\n",
       "TAXI_IN                  float64\n",
       "CRS_ARR_TIME               int64\n",
       "ARR_TIME                 float64\n",
       "ARR_DELAY                float64\n",
       "ARR_DELAY_NEW            float64\n",
       "CANCELLED                float64\n",
       "CANCELLATION_CODE         object\n",
       "DIVERTED                 float64\n",
       "CRS_ELAPSED_TIME         float64\n",
       "ACTUAL_ELAPSED_TIME      float64\n",
       "AIR_TIME                 float64\n",
       "FLIGHTS                  float64\n",
       "DISTANCE                 float64\n",
       "CARRIER_DELAY            float64\n",
       "WEATHER_DELAY            float64\n",
       "NAS_DELAY                float64\n",
       "SECURITY_DELAY           float64\n",
       "LATE_AIRCRAFT_DELAY      float64\n",
       "Unnamed: 44              float64\n",
       "dtype: object"
      ]
     },
     "execution_count": 79,
     "metadata": {},
     "output_type": "execute_result"
    }
   ],
   "source": [
    "df.dtypes"
   ]
  },
  {
   "cell_type": "code",
   "execution_count": 80,
   "metadata": {},
   "outputs": [
    {
     "data": {
      "text/html": [
       "<div>\n",
       "<style scoped>\n",
       "    .dataframe tbody tr th:only-of-type {\n",
       "        vertical-align: middle;\n",
       "    }\n",
       "\n",
       "    .dataframe tbody tr th {\n",
       "        vertical-align: top;\n",
       "    }\n",
       "\n",
       "    .dataframe thead th {\n",
       "        text-align: right;\n",
       "    }\n",
       "</style>\n",
       "<table border=\"1\" class=\"dataframe\">\n",
       "  <thead>\n",
       "    <tr style=\"text-align: right;\">\n",
       "      <th></th>\n",
       "      <th>YEAR</th>\n",
       "      <th>MONTH</th>\n",
       "      <th>DAY_OF_MONTH</th>\n",
       "      <th>DAY_OF_WEEK</th>\n",
       "      <th>OP_UNIQUE_CARRIER</th>\n",
       "      <th>TAIL_NUM</th>\n",
       "      <th>OP_CARRIER_FL_NUM</th>\n",
       "      <th>ORIGIN_AIRPORT_ID</th>\n",
       "      <th>ORIGIN_AIRPORT_SEQ_ID</th>\n",
       "      <th>ORIGIN_CITY_MARKET_ID</th>\n",
       "      <th>...</th>\n",
       "      <th>ACTUAL_ELAPSED_TIME</th>\n",
       "      <th>AIR_TIME</th>\n",
       "      <th>FLIGHTS</th>\n",
       "      <th>DISTANCE</th>\n",
       "      <th>CARRIER_DELAY</th>\n",
       "      <th>WEATHER_DELAY</th>\n",
       "      <th>NAS_DELAY</th>\n",
       "      <th>SECURITY_DELAY</th>\n",
       "      <th>LATE_AIRCRAFT_DELAY</th>\n",
       "      <th>Unnamed: 44</th>\n",
       "    </tr>\n",
       "  </thead>\n",
       "  <tbody>\n",
       "    <tr>\n",
       "      <th>0</th>\n",
       "      <td>2020</td>\n",
       "      <td>1</td>\n",
       "      <td>1</td>\n",
       "      <td>3</td>\n",
       "      <td>WN</td>\n",
       "      <td>N951WN</td>\n",
       "      <td>5888</td>\n",
       "      <td>13891</td>\n",
       "      <td>1389101</td>\n",
       "      <td>32575</td>\n",
       "      <td>...</td>\n",
       "      <td>122.0</td>\n",
       "      <td>74.0</td>\n",
       "      <td>1.0</td>\n",
       "      <td>363.0</td>\n",
       "      <td>8.0</td>\n",
       "      <td>0.0</td>\n",
       "      <td>27.0</td>\n",
       "      <td>0.0</td>\n",
       "      <td>33.0</td>\n",
       "      <td>NaN</td>\n",
       "    </tr>\n",
       "    <tr>\n",
       "      <th>1</th>\n",
       "      <td>2020</td>\n",
       "      <td>1</td>\n",
       "      <td>1</td>\n",
       "      <td>3</td>\n",
       "      <td>WN</td>\n",
       "      <td>N467WN</td>\n",
       "      <td>6276</td>\n",
       "      <td>13891</td>\n",
       "      <td>1389101</td>\n",
       "      <td>32575</td>\n",
       "      <td>...</td>\n",
       "      <td>92.0</td>\n",
       "      <td>71.0</td>\n",
       "      <td>1.0</td>\n",
       "      <td>363.0</td>\n",
       "      <td>NaN</td>\n",
       "      <td>NaN</td>\n",
       "      <td>NaN</td>\n",
       "      <td>NaN</td>\n",
       "      <td>NaN</td>\n",
       "      <td>NaN</td>\n",
       "    </tr>\n",
       "    <tr>\n",
       "      <th>2</th>\n",
       "      <td>2020</td>\n",
       "      <td>1</td>\n",
       "      <td>1</td>\n",
       "      <td>3</td>\n",
       "      <td>WN</td>\n",
       "      <td>N7885A</td>\n",
       "      <td>4598</td>\n",
       "      <td>13891</td>\n",
       "      <td>1389101</td>\n",
       "      <td>32575</td>\n",
       "      <td>...</td>\n",
       "      <td>68.0</td>\n",
       "      <td>57.0</td>\n",
       "      <td>1.0</td>\n",
       "      <td>333.0</td>\n",
       "      <td>NaN</td>\n",
       "      <td>NaN</td>\n",
       "      <td>NaN</td>\n",
       "      <td>NaN</td>\n",
       "      <td>NaN</td>\n",
       "      <td>NaN</td>\n",
       "    </tr>\n",
       "    <tr>\n",
       "      <th>3</th>\n",
       "      <td>2020</td>\n",
       "      <td>1</td>\n",
       "      <td>1</td>\n",
       "      <td>3</td>\n",
       "      <td>WN</td>\n",
       "      <td>N551WN</td>\n",
       "      <td>4761</td>\n",
       "      <td>13891</td>\n",
       "      <td>1389101</td>\n",
       "      <td>32575</td>\n",
       "      <td>...</td>\n",
       "      <td>75.0</td>\n",
       "      <td>63.0</td>\n",
       "      <td>1.0</td>\n",
       "      <td>333.0</td>\n",
       "      <td>NaN</td>\n",
       "      <td>NaN</td>\n",
       "      <td>NaN</td>\n",
       "      <td>NaN</td>\n",
       "      <td>NaN</td>\n",
       "      <td>NaN</td>\n",
       "    </tr>\n",
       "    <tr>\n",
       "      <th>4</th>\n",
       "      <td>2020</td>\n",
       "      <td>1</td>\n",
       "      <td>1</td>\n",
       "      <td>3</td>\n",
       "      <td>WN</td>\n",
       "      <td>N968WN</td>\n",
       "      <td>5162</td>\n",
       "      <td>13891</td>\n",
       "      <td>1389101</td>\n",
       "      <td>32575</td>\n",
       "      <td>...</td>\n",
       "      <td>67.0</td>\n",
       "      <td>57.0</td>\n",
       "      <td>1.0</td>\n",
       "      <td>333.0</td>\n",
       "      <td>NaN</td>\n",
       "      <td>NaN</td>\n",
       "      <td>NaN</td>\n",
       "      <td>NaN</td>\n",
       "      <td>NaN</td>\n",
       "      <td>NaN</td>\n",
       "    </tr>\n",
       "    <tr>\n",
       "      <th>5</th>\n",
       "      <td>2020</td>\n",
       "      <td>1</td>\n",
       "      <td>1</td>\n",
       "      <td>3</td>\n",
       "      <td>WN</td>\n",
       "      <td>N7856A</td>\n",
       "      <td>5684</td>\n",
       "      <td>13891</td>\n",
       "      <td>1389101</td>\n",
       "      <td>32575</td>\n",
       "      <td>...</td>\n",
       "      <td>80.0</td>\n",
       "      <td>57.0</td>\n",
       "      <td>1.0</td>\n",
       "      <td>333.0</td>\n",
       "      <td>NaN</td>\n",
       "      <td>NaN</td>\n",
       "      <td>NaN</td>\n",
       "      <td>NaN</td>\n",
       "      <td>NaN</td>\n",
       "      <td>NaN</td>\n",
       "    </tr>\n",
       "    <tr>\n",
       "      <th>6</th>\n",
       "      <td>2020</td>\n",
       "      <td>1</td>\n",
       "      <td>1</td>\n",
       "      <td>3</td>\n",
       "      <td>WN</td>\n",
       "      <td>N7735A</td>\n",
       "      <td>6152</td>\n",
       "      <td>13891</td>\n",
       "      <td>1389101</td>\n",
       "      <td>32575</td>\n",
       "      <td>...</td>\n",
       "      <td>72.0</td>\n",
       "      <td>62.0</td>\n",
       "      <td>1.0</td>\n",
       "      <td>333.0</td>\n",
       "      <td>NaN</td>\n",
       "      <td>NaN</td>\n",
       "      <td>NaN</td>\n",
       "      <td>NaN</td>\n",
       "      <td>NaN</td>\n",
       "      <td>NaN</td>\n",
       "    </tr>\n",
       "    <tr>\n",
       "      <th>7</th>\n",
       "      <td>2020</td>\n",
       "      <td>1</td>\n",
       "      <td>1</td>\n",
       "      <td>3</td>\n",
       "      <td>WN</td>\n",
       "      <td>N405WN</td>\n",
       "      <td>1679</td>\n",
       "      <td>13891</td>\n",
       "      <td>1389101</td>\n",
       "      <td>32575</td>\n",
       "      <td>...</td>\n",
       "      <td>73.0</td>\n",
       "      <td>66.0</td>\n",
       "      <td>1.0</td>\n",
       "      <td>390.0</td>\n",
       "      <td>0.0</td>\n",
       "      <td>0.0</td>\n",
       "      <td>0.0</td>\n",
       "      <td>7.0</td>\n",
       "      <td>40.0</td>\n",
       "      <td>NaN</td>\n",
       "    </tr>\n",
       "    <tr>\n",
       "      <th>8</th>\n",
       "      <td>2020</td>\n",
       "      <td>1</td>\n",
       "      <td>1</td>\n",
       "      <td>3</td>\n",
       "      <td>WN</td>\n",
       "      <td>N489WN</td>\n",
       "      <td>3479</td>\n",
       "      <td>13891</td>\n",
       "      <td>1389101</td>\n",
       "      <td>32575</td>\n",
       "      <td>...</td>\n",
       "      <td>100.0</td>\n",
       "      <td>73.0</td>\n",
       "      <td>1.0</td>\n",
       "      <td>390.0</td>\n",
       "      <td>NaN</td>\n",
       "      <td>NaN</td>\n",
       "      <td>NaN</td>\n",
       "      <td>NaN</td>\n",
       "      <td>NaN</td>\n",
       "      <td>NaN</td>\n",
       "    </tr>\n",
       "    <tr>\n",
       "      <th>9</th>\n",
       "      <td>2020</td>\n",
       "      <td>1</td>\n",
       "      <td>1</td>\n",
       "      <td>3</td>\n",
       "      <td>WN</td>\n",
       "      <td>N7708E</td>\n",
       "      <td>4069</td>\n",
       "      <td>13891</td>\n",
       "      <td>1389101</td>\n",
       "      <td>32575</td>\n",
       "      <td>...</td>\n",
       "      <td>84.0</td>\n",
       "      <td>71.0</td>\n",
       "      <td>1.0</td>\n",
       "      <td>390.0</td>\n",
       "      <td>NaN</td>\n",
       "      <td>NaN</td>\n",
       "      <td>NaN</td>\n",
       "      <td>NaN</td>\n",
       "      <td>NaN</td>\n",
       "      <td>NaN</td>\n",
       "    </tr>\n",
       "  </tbody>\n",
       "</table>\n",
       "<p>10 rows × 45 columns</p>\n",
       "</div>"
      ],
      "text/plain": [
       "   YEAR  MONTH  DAY_OF_MONTH  DAY_OF_WEEK OP_UNIQUE_CARRIER TAIL_NUM  \\\n",
       "0  2020      1             1            3                WN   N951WN   \n",
       "1  2020      1             1            3                WN   N467WN   \n",
       "2  2020      1             1            3                WN   N7885A   \n",
       "3  2020      1             1            3                WN   N551WN   \n",
       "4  2020      1             1            3                WN   N968WN   \n",
       "5  2020      1             1            3                WN   N7856A   \n",
       "6  2020      1             1            3                WN   N7735A   \n",
       "7  2020      1             1            3                WN   N405WN   \n",
       "8  2020      1             1            3                WN   N489WN   \n",
       "9  2020      1             1            3                WN   N7708E   \n",
       "\n",
       "   OP_CARRIER_FL_NUM  ORIGIN_AIRPORT_ID  ORIGIN_AIRPORT_SEQ_ID  \\\n",
       "0               5888              13891                1389101   \n",
       "1               6276              13891                1389101   \n",
       "2               4598              13891                1389101   \n",
       "3               4761              13891                1389101   \n",
       "4               5162              13891                1389101   \n",
       "5               5684              13891                1389101   \n",
       "6               6152              13891                1389101   \n",
       "7               1679              13891                1389101   \n",
       "8               3479              13891                1389101   \n",
       "9               4069              13891                1389101   \n",
       "\n",
       "   ORIGIN_CITY_MARKET_ID  ... ACTUAL_ELAPSED_TIME AIR_TIME  FLIGHTS DISTANCE  \\\n",
       "0                  32575  ...               122.0     74.0      1.0    363.0   \n",
       "1                  32575  ...                92.0     71.0      1.0    363.0   \n",
       "2                  32575  ...                68.0     57.0      1.0    333.0   \n",
       "3                  32575  ...                75.0     63.0      1.0    333.0   \n",
       "4                  32575  ...                67.0     57.0      1.0    333.0   \n",
       "5                  32575  ...                80.0     57.0      1.0    333.0   \n",
       "6                  32575  ...                72.0     62.0      1.0    333.0   \n",
       "7                  32575  ...                73.0     66.0      1.0    390.0   \n",
       "8                  32575  ...               100.0     73.0      1.0    390.0   \n",
       "9                  32575  ...                84.0     71.0      1.0    390.0   \n",
       "\n",
       "   CARRIER_DELAY  WEATHER_DELAY  NAS_DELAY SECURITY_DELAY LATE_AIRCRAFT_DELAY  \\\n",
       "0            8.0            0.0       27.0            0.0                33.0   \n",
       "1            NaN            NaN        NaN            NaN                 NaN   \n",
       "2            NaN            NaN        NaN            NaN                 NaN   \n",
       "3            NaN            NaN        NaN            NaN                 NaN   \n",
       "4            NaN            NaN        NaN            NaN                 NaN   \n",
       "5            NaN            NaN        NaN            NaN                 NaN   \n",
       "6            NaN            NaN        NaN            NaN                 NaN   \n",
       "7            0.0            0.0        0.0            7.0                40.0   \n",
       "8            NaN            NaN        NaN            NaN                 NaN   \n",
       "9            NaN            NaN        NaN            NaN                 NaN   \n",
       "\n",
       "   Unnamed: 44  \n",
       "0          NaN  \n",
       "1          NaN  \n",
       "2          NaN  \n",
       "3          NaN  \n",
       "4          NaN  \n",
       "5          NaN  \n",
       "6          NaN  \n",
       "7          NaN  \n",
       "8          NaN  \n",
       "9          NaN  \n",
       "\n",
       "[10 rows x 45 columns]"
      ]
     },
     "execution_count": 80,
     "metadata": {},
     "output_type": "execute_result"
    }
   ],
   "source": [
    "df.head(10)"
   ]
  },
  {
   "cell_type": "code",
   "execution_count": 132,
   "metadata": {},
   "outputs": [],
   "source": [
    "# correcting dates formate\n",
    "df['DEP_TIME'] = df.DEP_TIME.apply(lambda x: str(int(x)).zfill(4) if pd.notnull(x) else x)\n",
    "df['CRS_DEP_TIME'] = df.CRS_DEP_TIME.apply(lambda x: str(int(x)).zfill(4) if pd.notnull(x) else x)\n",
    "df['ARR_TIME'] = df.ARR_TIME.apply(lambda x: str(int(x)).zfill(4) if pd.notnull(x) else x)\n",
    "df['CRS_ARR_TIME'] = df.CRS_ARR_TIME.apply(lambda x: str(int(x)).zfill(4) if pd.notnull(x) else x)\n",
    "\n",
    "# creating AM/PM in df\n",
    "def setPM(x):\n",
    "    if((x>=12) & (x<= 23)):\n",
    "        return 'PM'\n",
    "    elif((x>=0) & (x<= 11) | (x==24)):\n",
    "        return 'AM'\n",
    "    else:\n",
    "        return x\n",
    "    \n",
    "df.DEP_TIME.dropna(inplace=True)\n",
    "df['DepTimePM'] = df.DEP_TIME.str[:2].astype('int64')\n",
    "df['DepTimePM'] = df.DepTimePM.apply(setPM)\n",
    "df.DepTimePM.dropna(inplace=True)"
   ]
  },
  {
   "cell_type": "code",
   "execution_count": 82,
   "metadata": {},
   "outputs": [
    {
     "data": {
      "text/html": [
       "<div>\n",
       "<style scoped>\n",
       "    .dataframe tbody tr th:only-of-type {\n",
       "        vertical-align: middle;\n",
       "    }\n",
       "\n",
       "    .dataframe tbody tr th {\n",
       "        vertical-align: top;\n",
       "    }\n",
       "\n",
       "    .dataframe thead th {\n",
       "        text-align: right;\n",
       "    }\n",
       "</style>\n",
       "<table border=\"1\" class=\"dataframe\">\n",
       "  <thead>\n",
       "    <tr style=\"text-align: right;\">\n",
       "      <th></th>\n",
       "      <th>YEAR</th>\n",
       "      <th>MONTH</th>\n",
       "      <th>DAY_OF_MONTH</th>\n",
       "      <th>DAY_OF_WEEK</th>\n",
       "      <th>OP_CARRIER_FL_NUM</th>\n",
       "      <th>ORIGIN_AIRPORT_ID</th>\n",
       "      <th>ORIGIN_AIRPORT_SEQ_ID</th>\n",
       "      <th>ORIGIN_CITY_MARKET_ID</th>\n",
       "      <th>ORIGIN_STATE_FIPS</th>\n",
       "      <th>DEST_AIRPORT_ID</th>\n",
       "      <th>...</th>\n",
       "      <th>ACTUAL_ELAPSED_TIME</th>\n",
       "      <th>AIR_TIME</th>\n",
       "      <th>FLIGHTS</th>\n",
       "      <th>DISTANCE</th>\n",
       "      <th>CARRIER_DELAY</th>\n",
       "      <th>WEATHER_DELAY</th>\n",
       "      <th>NAS_DELAY</th>\n",
       "      <th>SECURITY_DELAY</th>\n",
       "      <th>LATE_AIRCRAFT_DELAY</th>\n",
       "      <th>Unnamed: 44</th>\n",
       "    </tr>\n",
       "  </thead>\n",
       "  <tbody>\n",
       "    <tr>\n",
       "      <th>count</th>\n",
       "      <td>607346.0</td>\n",
       "      <td>607346.0</td>\n",
       "      <td>607346.000000</td>\n",
       "      <td>607346.000000</td>\n",
       "      <td>607346.000000</td>\n",
       "      <td>607346.000000</td>\n",
       "      <td>6.073460e+05</td>\n",
       "      <td>607346.000000</td>\n",
       "      <td>607346.000000</td>\n",
       "      <td>607346.000000</td>\n",
       "      <td>...</td>\n",
       "      <td>599268.000000</td>\n",
       "      <td>599268.000000</td>\n",
       "      <td>607346.0</td>\n",
       "      <td>607346.000000</td>\n",
       "      <td>82285.000000</td>\n",
       "      <td>82285.000000</td>\n",
       "      <td>82285.000000</td>\n",
       "      <td>82285.000000</td>\n",
       "      <td>82285.000000</td>\n",
       "      <td>0.0</td>\n",
       "    </tr>\n",
       "    <tr>\n",
       "      <th>mean</th>\n",
       "      <td>2020.0</td>\n",
       "      <td>1.0</td>\n",
       "      <td>16.014354</td>\n",
       "      <td>3.955735</td>\n",
       "      <td>2622.365261</td>\n",
       "      <td>12657.389167</td>\n",
       "      <td>1.265743e+06</td>\n",
       "      <td>31761.273269</td>\n",
       "      <td>26.876029</td>\n",
       "      <td>12657.196320</td>\n",
       "      <td>...</td>\n",
       "      <td>137.039345</td>\n",
       "      <td>112.187437</td>\n",
       "      <td>1.0</td>\n",
       "      <td>798.022341</td>\n",
       "      <td>24.696324</td>\n",
       "      <td>4.594944</td>\n",
       "      <td>14.262733</td>\n",
       "      <td>0.091062</td>\n",
       "      <td>20.561658</td>\n",
       "      <td>NaN</td>\n",
       "    </tr>\n",
       "    <tr>\n",
       "      <th>std</th>\n",
       "      <td>0.0</td>\n",
       "      <td>0.0</td>\n",
       "      <td>8.990719</td>\n",
       "      <td>1.910205</td>\n",
       "      <td>1822.545302</td>\n",
       "      <td>1524.407203</td>\n",
       "      <td>1.524405e+05</td>\n",
       "      <td>1308.052641</td>\n",
       "      <td>16.560267</td>\n",
       "      <td>1524.279269</td>\n",
       "      <td>...</td>\n",
       "      <td>72.293510</td>\n",
       "      <td>70.629553</td>\n",
       "      <td>0.0</td>\n",
       "      <td>587.282639</td>\n",
       "      <td>72.972359</td>\n",
       "      <td>39.180258</td>\n",
       "      <td>33.736783</td>\n",
       "      <td>2.308003</td>\n",
       "      <td>50.370818</td>\n",
       "      <td>NaN</td>\n",
       "    </tr>\n",
       "    <tr>\n",
       "      <th>min</th>\n",
       "      <td>2020.0</td>\n",
       "      <td>1.0</td>\n",
       "      <td>1.000000</td>\n",
       "      <td>1.000000</td>\n",
       "      <td>1.000000</td>\n",
       "      <td>10135.000000</td>\n",
       "      <td>1.013506e+06</td>\n",
       "      <td>30070.000000</td>\n",
       "      <td>1.000000</td>\n",
       "      <td>10135.000000</td>\n",
       "      <td>...</td>\n",
       "      <td>18.000000</td>\n",
       "      <td>8.000000</td>\n",
       "      <td>1.0</td>\n",
       "      <td>31.000000</td>\n",
       "      <td>0.000000</td>\n",
       "      <td>0.000000</td>\n",
       "      <td>0.000000</td>\n",
       "      <td>0.000000</td>\n",
       "      <td>0.000000</td>\n",
       "      <td>NaN</td>\n",
       "    </tr>\n",
       "    <tr>\n",
       "      <th>25%</th>\n",
       "      <td>2020.0</td>\n",
       "      <td>1.0</td>\n",
       "      <td>8.000000</td>\n",
       "      <td>2.000000</td>\n",
       "      <td>1070.000000</td>\n",
       "      <td>11292.000000</td>\n",
       "      <td>1.129202e+06</td>\n",
       "      <td>30713.000000</td>\n",
       "      <td>12.000000</td>\n",
       "      <td>11292.000000</td>\n",
       "      <td>...</td>\n",
       "      <td>84.000000</td>\n",
       "      <td>61.000000</td>\n",
       "      <td>1.0</td>\n",
       "      <td>369.000000</td>\n",
       "      <td>0.000000</td>\n",
       "      <td>0.000000</td>\n",
       "      <td>0.000000</td>\n",
       "      <td>0.000000</td>\n",
       "      <td>0.000000</td>\n",
       "      <td>NaN</td>\n",
       "    </tr>\n",
       "    <tr>\n",
       "      <th>50%</th>\n",
       "      <td>2020.0</td>\n",
       "      <td>1.0</td>\n",
       "      <td>16.000000</td>\n",
       "      <td>4.000000</td>\n",
       "      <td>2177.000000</td>\n",
       "      <td>12889.000000</td>\n",
       "      <td>1.288903e+06</td>\n",
       "      <td>31453.000000</td>\n",
       "      <td>26.000000</td>\n",
       "      <td>12889.000000</td>\n",
       "      <td>...</td>\n",
       "      <td>120.000000</td>\n",
       "      <td>94.000000</td>\n",
       "      <td>1.0</td>\n",
       "      <td>641.000000</td>\n",
       "      <td>1.000000</td>\n",
       "      <td>0.000000</td>\n",
       "      <td>2.000000</td>\n",
       "      <td>0.000000</td>\n",
       "      <td>0.000000</td>\n",
       "      <td>NaN</td>\n",
       "    </tr>\n",
       "    <tr>\n",
       "      <th>75%</th>\n",
       "      <td>2020.0</td>\n",
       "      <td>1.0</td>\n",
       "      <td>24.000000</td>\n",
       "      <td>5.000000</td>\n",
       "      <td>4108.000000</td>\n",
       "      <td>14027.000000</td>\n",
       "      <td>1.402702e+06</td>\n",
       "      <td>32467.000000</td>\n",
       "      <td>42.000000</td>\n",
       "      <td>14027.000000</td>\n",
       "      <td>...</td>\n",
       "      <td>168.000000</td>\n",
       "      <td>142.000000</td>\n",
       "      <td>1.0</td>\n",
       "      <td>1037.000000</td>\n",
       "      <td>22.000000</td>\n",
       "      <td>0.000000</td>\n",
       "      <td>19.000000</td>\n",
       "      <td>0.000000</td>\n",
       "      <td>22.000000</td>\n",
       "      <td>NaN</td>\n",
       "    </tr>\n",
       "    <tr>\n",
       "      <th>max</th>\n",
       "      <td>2020.0</td>\n",
       "      <td>1.0</td>\n",
       "      <td>31.000000</td>\n",
       "      <td>7.000000</td>\n",
       "      <td>6860.000000</td>\n",
       "      <td>16869.000000</td>\n",
       "      <td>1.686901e+06</td>\n",
       "      <td>35991.000000</td>\n",
       "      <td>78.000000</td>\n",
       "      <td>16869.000000</td>\n",
       "      <td>...</td>\n",
       "      <td>744.000000</td>\n",
       "      <td>698.000000</td>\n",
       "      <td>1.0</td>\n",
       "      <td>5095.000000</td>\n",
       "      <td>2489.000000</td>\n",
       "      <td>1525.000000</td>\n",
       "      <td>1408.000000</td>\n",
       "      <td>188.000000</td>\n",
       "      <td>2228.000000</td>\n",
       "      <td>NaN</td>\n",
       "    </tr>\n",
       "  </tbody>\n",
       "</table>\n",
       "<p>8 rows × 32 columns</p>\n",
       "</div>"
      ],
      "text/plain": [
       "           YEAR     MONTH   DAY_OF_MONTH    DAY_OF_WEEK  OP_CARRIER_FL_NUM  \\\n",
       "count  607346.0  607346.0  607346.000000  607346.000000      607346.000000   \n",
       "mean     2020.0       1.0      16.014354       3.955735        2622.365261   \n",
       "std         0.0       0.0       8.990719       1.910205        1822.545302   \n",
       "min      2020.0       1.0       1.000000       1.000000           1.000000   \n",
       "25%      2020.0       1.0       8.000000       2.000000        1070.000000   \n",
       "50%      2020.0       1.0      16.000000       4.000000        2177.000000   \n",
       "75%      2020.0       1.0      24.000000       5.000000        4108.000000   \n",
       "max      2020.0       1.0      31.000000       7.000000        6860.000000   \n",
       "\n",
       "       ORIGIN_AIRPORT_ID  ORIGIN_AIRPORT_SEQ_ID  ORIGIN_CITY_MARKET_ID  \\\n",
       "count      607346.000000           6.073460e+05          607346.000000   \n",
       "mean        12657.389167           1.265743e+06           31761.273269   \n",
       "std          1524.407203           1.524405e+05            1308.052641   \n",
       "min         10135.000000           1.013506e+06           30070.000000   \n",
       "25%         11292.000000           1.129202e+06           30713.000000   \n",
       "50%         12889.000000           1.288903e+06           31453.000000   \n",
       "75%         14027.000000           1.402702e+06           32467.000000   \n",
       "max         16869.000000           1.686901e+06           35991.000000   \n",
       "\n",
       "       ORIGIN_STATE_FIPS  DEST_AIRPORT_ID  ...  ACTUAL_ELAPSED_TIME  \\\n",
       "count      607346.000000    607346.000000  ...        599268.000000   \n",
       "mean           26.876029     12657.196320  ...           137.039345   \n",
       "std            16.560267      1524.279269  ...            72.293510   \n",
       "min             1.000000     10135.000000  ...            18.000000   \n",
       "25%            12.000000     11292.000000  ...            84.000000   \n",
       "50%            26.000000     12889.000000  ...           120.000000   \n",
       "75%            42.000000     14027.000000  ...           168.000000   \n",
       "max            78.000000     16869.000000  ...           744.000000   \n",
       "\n",
       "            AIR_TIME   FLIGHTS       DISTANCE  CARRIER_DELAY  WEATHER_DELAY  \\\n",
       "count  599268.000000  607346.0  607346.000000   82285.000000   82285.000000   \n",
       "mean      112.187437       1.0     798.022341      24.696324       4.594944   \n",
       "std        70.629553       0.0     587.282639      72.972359      39.180258   \n",
       "min         8.000000       1.0      31.000000       0.000000       0.000000   \n",
       "25%        61.000000       1.0     369.000000       0.000000       0.000000   \n",
       "50%        94.000000       1.0     641.000000       1.000000       0.000000   \n",
       "75%       142.000000       1.0    1037.000000      22.000000       0.000000   \n",
       "max       698.000000       1.0    5095.000000    2489.000000    1525.000000   \n",
       "\n",
       "          NAS_DELAY  SECURITY_DELAY  LATE_AIRCRAFT_DELAY  Unnamed: 44  \n",
       "count  82285.000000    82285.000000         82285.000000          0.0  \n",
       "mean      14.262733        0.091062            20.561658          NaN  \n",
       "std       33.736783        2.308003            50.370818          NaN  \n",
       "min        0.000000        0.000000             0.000000          NaN  \n",
       "25%        0.000000        0.000000             0.000000          NaN  \n",
       "50%        2.000000        0.000000             0.000000          NaN  \n",
       "75%       19.000000        0.000000            22.000000          NaN  \n",
       "max     1408.000000      188.000000          2228.000000          NaN  \n",
       "\n",
       "[8 rows x 32 columns]"
      ]
     },
     "execution_count": 82,
     "metadata": {},
     "output_type": "execute_result"
    }
   ],
   "source": [
    "df.describe()"
   ]
  },
  {
   "cell_type": "markdown",
   "metadata": {},
   "source": [
    "### What is the structure of your dataset?\n",
    "\n",
    "> There are 607346 flight observations with 45 features in 2020 jan.\n",
    "\n",
    "\n",
    "### What is/are the main feature(s) of interest in your dataset?\n",
    "\n",
    "> delayed and canceled flights in terms fo carriers, locations & time.\n",
    "\n",
    "\n",
    "### What features in the dataset do you think will help support your investigation into your feature(s) of interest?\n",
    "\n",
    "> Arr_Delay, DepDelay, Cancelled, Month, Day_Of_Week, Dep_Time, Arr_Time, OP_UNIQUE_CARRIER, Origin & Dest."
   ]
  },
  {
   "cell_type": "markdown",
   "metadata": {},
   "source": [
    "## Univariate Exploration\n",
    "\n",
    "> I'll start by looking at the airlines sizes"
   ]
  },
  {
   "cell_type": "code",
   "execution_count": 83,
   "metadata": {},
   "outputs": [
    {
     "data": {
      "image/png": "[encoded data removed]",
      "text/plain": [
       "<Figure size 432x288 with 1 Axes>"
      ]
     },
     "metadata": {
      "needs_background": "light"
     },
     "output_type": "display_data"
    }
   ],
   "source": [
    "airlines = df.OP_UNIQUE_CARRIER.value_counts()\n",
    "plt.bar(airlines.index, airlines);"
   ]
  },
  {
   "cell_type": "markdown",
   "metadata": {},
   "source": [
    "> Flight quantity is different among airlines."
   ]
  },
  {
   "cell_type": "markdown",
   "metadata": {},
   "source": [
    "### Flights size in each state"
   ]
  },
  {
   "cell_type": "code",
   "execution_count": 98,
   "metadata": {},
   "outputs": [
    {
     "data": {
      "image/png": "[encoded data removed]",
      "text/plain": [
       "<Figure size 1440x288 with 1 Axes>"
      ]
     },
     "metadata": {
      "needs_background": "light"
     },
     "output_type": "display_data"
    }
   ],
   "source": [
    "plt.figure(figsize=[20,4])\n",
    "states = df.ORIGIN_STATE_ABR.value_counts()\n",
    "\n",
    "plt.bar(states.index, states);"
   ]
  },
  {
   "cell_type": "markdown",
   "metadata": {},
   "source": [
    "> Flight quantity is different among airlines."
   ]
  },
  {
   "cell_type": "markdown",
   "metadata": {},
   "source": [
    "### Flights distributed during days of week"
   ]
  },
  {
   "cell_type": "code",
   "execution_count": 99,
   "metadata": {},
   "outputs": [
    {
     "data": {
      "image/png": "[encoded data removed]",
      "text/plain": [
       "<Figure size 432x288 with 1 Axes>"
      ]
     },
     "metadata": {
      "needs_background": "light"
     },
     "output_type": "display_data"
    }
   ],
   "source": [
    "width = 1\n",
    "bins = np.arange(1, 9, width)\n",
    "plt.hist(df.DAY_OF_WEEK, rwidth=.8 , bins=bins)\n",
    "name_days = ['Mon', 'Tue', 'Wed', 'Thu', 'Fri', 'Sat', 'Sun']\n",
    "plt.xticks(np.arange(1.5,max(bins),width), name_days);"
   ]
  },
  {
   "cell_type": "markdown",
   "metadata": {},
   "source": [
    "> There are little drop of flights in weekend.\n",
    "\n"
   ]
  },
  {
   "cell_type": "markdown",
   "metadata": {},
   "source": [
    "### Rate of cancelled flights"
   ]
  },
  {
   "cell_type": "code",
   "execution_count": 100,
   "metadata": {},
   "outputs": [
    {
     "data": {
      "image/png": "[encoded data removed]",
      "text/plain": [
       "<Figure size 432x288 with 1 Axes>"
      ]
     },
     "metadata": {},
     "output_type": "display_data"
    }
   ],
   "source": [
    "plt.pie(df.CANCELLED.value_counts(), autopct='%.2f%%');"
   ]
  },
  {
   "cell_type": "markdown",
   "metadata": {},
   "source": [
    "> There are 1.14% flights were cancelled.\n",
    "\n"
   ]
  },
  {
   "cell_type": "markdown",
   "metadata": {},
   "source": [
    "### Distribution of departure delay"
   ]
  },
  {
   "cell_type": "code",
   "execution_count": 101,
   "metadata": {},
   "outputs": [
    {
     "data": {
      "image/png": "[encoded data removed]",
      "text/plain": [
       "<Figure size 1080x288 with 2 Axes>"
      ]
     },
     "metadata": {
      "needs_background": "light"
     },
     "output_type": "display_data"
    }
   ],
   "source": [
    "\n",
    "plt.figure(figsize=[15,4])\n",
    "\n",
    "plt.subplot(2,1,1)\n",
    "step = 5\n",
    "x_min, x_max = -30, 110\n",
    "bin_edges = np.arange(df.DEP_DELAY.min()-step, df.DEP_DELAY.max()+step, step)\n",
    "plt.hist(df.DEP_DELAY, bins=bin_edges)\n",
    "plt.xlim(x_min,x_max)\n",
    "plt.xticks(np.arange(x_min, x_max, step))\n",
    "\n",
    "\n",
    "plt.subplot(2,1,2)\n",
    "plt.boxplot(x=df[pd.notnull(df.DEP_DELAY)].DEP_DELAY, vert=False, showfliers=False)\n",
    "plt.xlim(x_min,x_max)\n",
    "plt.xticks(np.arange(x_min, x_max, step));"
   ]
  },
  {
   "cell_type": "markdown",
   "metadata": {},
   "source": [
    "> There are delayed departures as well as earlier departures and the most of them are between -25 to 25 min differ of the scheduled time. However, there is a flight has been delayed more than 1 day and 17 hours, and also there is a flight had be earlier around 9 hours of the schedule time."
   ]
  },
  {
   "cell_type": "markdown",
   "metadata": {},
   "source": [
    "### Distribution of arrival delay"
   ]
  },
  {
   "cell_type": "code",
   "execution_count": 102,
   "metadata": {},
   "outputs": [
    {
     "data": {
      "image/png": "[encoded data removed]",
      "text/plain": [
       "<Figure size 1080x288 with 2 Axes>"
      ]
     },
     "metadata": {
      "needs_background": "light"
     },
     "output_type": "display_data"
    }
   ],
   "source": [
    "plt.figure(figsize=[15,4])\n",
    "plt.subplot(2,1,1)\n",
    "step = 5\n",
    "x_min, x_max = -50, 160\n",
    "bin_edges = np.arange(df.ARR_DELAY.min()-step, df.ARR_DELAY.max()+step, step)\n",
    "plt.hist(df.ARR_DELAY, bins=bin_edges)\n",
    "plt.xlim(x_min, x_max)\n",
    "plt.xticks(np.arange(x_min, x_max, step))\n",
    "\n",
    "plt.subplot(2,1,2)\n",
    "plt.boxplot(x=df[pd.notnull(df.ARR_DELAY)].ARR_DELAY, vert=False, showfliers=False)\n",
    "plt.xlim(x_min, x_max)\n",
    "plt.xticks(np.arange(x_min, x_max, step));"
   ]
  },
  {
   "cell_type": "markdown",
   "metadata": {},
   "source": [
    "> There are delayed arrivals as well as earlier arrivals and the most of them are between -45 to 45 min differ of the scheduled time.\n",
    "\n"
   ]
  },
  {
   "cell_type": "code",
   "execution_count": null,
   "metadata": {},
   "outputs": [],
   "source": []
  },
  {
   "cell_type": "markdown",
   "metadata": {},
   "source": [
    "## Bivariate Exploration\n",
    "\n",
    "> To start off with, I want to look at relationship among Cannelled, DepDelay, ArrDelay & flight quantity of airlines in terms of airlines"
   ]
  },
  {
   "cell_type": "code",
   "execution_count": 103,
   "metadata": {},
   "outputs": [
    {
     "data": {
      "image/png": "[encoded data removed]",
      "text/plain": [
       "<Figure size 540x540 with 12 Axes>"
      ]
     },
     "metadata": {
      "needs_background": "light"
     },
     "output_type": "display_data"
    }
   ],
   "source": [
    "sample = df.groupby('OP_UNIQUE_CARRIER')\n",
    "sample = pd.merge(\n",
    "    pd.DataFrame(sample.CANCELLED.count()), \n",
    "    pd.DataFrame(sample.DEP_DELAY.sum()), \n",
    "    on='OP_UNIQUE_CARRIER'\n",
    ").merge(\n",
    "    pd.DataFrame(sample.ARR_DELAY.sum()), on='OP_UNIQUE_CARRIER'\n",
    ")\n",
    "\n",
    "sb.pairplot(sample);\n"
   ]
  },
  {
   "cell_type": "markdown",
   "metadata": {},
   "source": [
    "> There are positive correlation coefficients among Cannelled, DepDelay, ArrDelay & flight quantity of airlines."
   ]
  },
  {
   "cell_type": "markdown",
   "metadata": {},
   "source": [
    "### Relationship among Cannelled, DepDelay, ArrDelay & flight quantity of airlines in terms of states"
   ]
  },
  {
   "cell_type": "code",
   "execution_count": 105,
   "metadata": {},
   "outputs": [
    {
     "data": {
      "image/png": "[encoded data removed]",
      "text/plain": [
       "<Figure size 540x540 with 12 Axes>"
      ]
     },
     "metadata": {
      "needs_background": "light"
     },
     "output_type": "display_data"
    }
   ],
   "source": [
    "sample = df.groupby('ORIGIN_STATE_ABR')\n",
    "sample = pd.merge(\n",
    "    pd.DataFrame(sample.CANCELLED.count()), \n",
    "    pd.DataFrame(sample.DEP_DELAY.sum()), \n",
    "    on='ORIGIN_STATE_ABR'\n",
    ").merge(\n",
    "    pd.DataFrame(sample.ARR_DELAY.sum()), on='ORIGIN_STATE_ABR'\n",
    ")\n",
    "\n",
    "\n",
    "sb.pairplot(sample);"
   ]
  },
  {
   "cell_type": "markdown",
   "metadata": {},
   "source": [
    "There are positive correlation coefficients among Cannelled, DepDelay, ArrDelay & flight quantity of states.\n",
    "\n"
   ]
  },
  {
   "cell_type": "markdown",
   "metadata": {},
   "source": [
    "### Relationship between states & airlines"
   ]
  },
  {
   "cell_type": "code",
   "execution_count": 108,
   "metadata": {},
   "outputs": [
    {
     "data": {
      "image/png": "[encoded data removed]",
      "text/plain": [
       "<Figure size 1224x360 with 1 Axes>"
      ]
     },
     "metadata": {
      "needs_background": "light"
     },
     "output_type": "display_data"
    }
   ],
   "source": [
    "state_airlines = df.groupby(['ORIGIN_STATE_ABR', 'OP_UNIQUE_CARRIER'], as_index=False).count()\n",
    "state_airlines = state_airlines[['ORIGIN_STATE_ABR', 'OP_UNIQUE_CARRIER']]\n",
    "\n",
    "plt.figure(figsize=[17,5])\n",
    "plt.scatter(state_airlines.ORIGIN_STATE_ABR, state_airlines.OP_UNIQUE_CARRIER);"
   ]
  },
  {
   "cell_type": "markdown",
   "metadata": {},
   "source": [
    "> The most of airlines reach the most of states.\n",
    "\n"
   ]
  },
  {
   "cell_type": "markdown",
   "metadata": {},
   "source": [
    "### Cancelled flights for each airline"
   ]
  },
  {
   "cell_type": "code",
   "execution_count": 113,
   "metadata": {},
   "outputs": [
    {
     "data": {
      "image/png": "[encoded data removed]",
      "text/plain": [
       "<Figure size 864x720 with 4 Axes>"
      ]
     },
     "metadata": {
      "needs_background": "light"
     },
     "output_type": "display_data"
    }
   ],
   "source": [
    "carriers = df.groupby(['OP_UNIQUE_CARRIER','CANCELLED'], as_index=False).count()\n",
    "carriers = carriers.pivot_table('YEAR', 'OP_UNIQUE_CARRIER', 'CANCELLED', fill_value=0)\n",
    "carriers.rename(columns={0:'cxl_0', 1:'cxl_1'}, inplace=True)\n",
    "\n",
    "plt.figure(figsize=[12,10])\n",
    "carriers\n",
    "plt.subplot(1,4,2)\n",
    "plt.barh(carriers.index, carriers.cxl_0, color='C0')\n",
    "\n",
    "\n",
    "plt.subplot(1,4,1)\n",
    "plt.barh(carriers.index, carriers.cxl_1*-1, color='C1')\n",
    "plt.yticks(' ')\n",
    "\n",
    "\n",
    "carriers.cxl_0 = np.log10(carriers.cxl_0)\n",
    "carriers.cxl_1 = np.log10(carriers.cxl_1)\n",
    "\n",
    "plt.subplot(1,4,4)\n",
    "plt.barh(carriers.index, carriers.cxl_0, color='C0')\n",
    "plt.xlim(0, 7)\n",
    "\n",
    "\n",
    "plt.subplot(1,4,3)\n",
    "plt.barh(carriers.index, carriers.cxl_1*-1, color='C1')\n",
    "plt.xlim(-7, 0)\n",
    "plt.yticks(' ');"
   ]
  },
  {
   "cell_type": "markdown",
   "metadata": {},
   "source": [
    ">Normalizing data by log10 make it more informative.\n",
    "\n"
   ]
  },
  {
   "cell_type": "markdown",
   "metadata": {},
   "source": [
    "## Multivariate Exploration\n",
    "\n",
    "> Create plots of three or more variables to investigate your data even\n",
    "further. Make sure that your investigations are justified, and follow from\n",
    "your work in the previous sections."
   ]
  },
  {
   "cell_type": "markdown",
   "metadata": {},
   "source": [
    "### Delay and cancelation factors with airlines and their size."
   ]
  },
  {
   "cell_type": "code",
   "execution_count": 127,
   "metadata": {},
   "outputs": [
    {
     "data": {
      "image/png": "[encoded data removed]",
      "text/plain": [
       "<Figure size 432x288 with 1 Axes>"
      ]
     },
     "metadata": {
      "needs_background": "light"
     },
     "output_type": "display_data"
    }
   ],
   "source": [
    "airlines_mean = df.groupby('OP_UNIQUE_CARRIER', as_index=False).mean()\n",
    "airlines_count = df.groupby('OP_UNIQUE_CARRIER', as_index=False).count()\n",
    "\n",
    "airlines = airlines_mean[['OP_UNIQUE_CARRIER','ARR_DELAY','CANCELLED']].merge(\n",
    "    airlines_count[['OP_UNIQUE_CARRIER','FLIGHTS']], on='OP_UNIQUE_CARRIER'\n",
    ")\n",
    "airlines.rename(columns={'FLIGHTS':'Count'}, inplace=True)\n",
    "\n",
    "airlines['Size'] = airlines.Count.map(lambda x: round(x/120000)+1)\n",
    "airlines['Size'] = airlines.Size.map(lambda x: 7 if x>7 else x)\n",
    "\n",
    "plt.scatter(airlines.ARR_DELAY, airlines.CANCELLED, s=airlines.Size**3)\n",
    "\n",
    "x_max = max(airlines.ARR_DELAY)\n",
    "x_min = min(airlines.ARR_DELAY)\n",
    "\n",
    "y_max = max(airlines.CANCELLED)\n",
    "y_min = min(airlines.CANCELLED)\n",
    "\n",
    "x_len =  x_max - x_min\n",
    "y_len =  y_max - y_min\n",
    "\n",
    "x = x_len*.05\n",
    "y = y_len*.05\n",
    "\n",
    "plt.xlim(x_min-x, x_max+x)\n",
    "plt.ylim(y_min-y, y_max+y)\n",
    "plt.axhline(y=y_max-(y_len/2))\n",
    "plt.axvline(x_max - (x_len/2))\n",
    "\n",
    "for i, txt in enumerate(airlines.OP_UNIQUE_CARRIER):\n",
    "    plt.annotate(txt, (airlines.ARR_DELAY[i], airlines.CANCELLED[i]));"
   ]
  },
  {
   "cell_type": "markdown",
   "metadata": {},
   "source": [
    "> delay factor is impact on the most airlines while cancellation is impact on around all of them."
   ]
  },
  {
   "cell_type": "markdown",
   "metadata": {},
   "source": [
    "### Delay and cancelation factors with states and flights size"
   ]
  },
  {
   "cell_type": "code",
   "execution_count": 130,
   "metadata": {},
   "outputs": [
    {
     "data": {
      "image/png": "[encoded data removed]",
      "text/plain": [
       "<Figure size 432x288 with 1 Axes>"
      ]
     },
     "metadata": {
      "needs_background": "light"
     },
     "output_type": "display_data"
    }
   ],
   "source": [
    "state_mean = df.groupby('ORIGIN_STATE_ABR', as_index=False).mean()\n",
    "state_count = df.groupby('ORIGIN_STATE_ABR', as_index=False).count()\n",
    "\n",
    "states = state_mean[['ORIGIN_STATE_ABR','ARR_DELAY','CANCELLED']].merge(\n",
    "    state_count[['ORIGIN_STATE_ABR','FLIGHTS']], on='ORIGIN_STATE_ABR'\n",
    ")\n",
    "states.rename(columns={'FLIGHTS':'Count'}, inplace=True)\n",
    "\n",
    "states['Size'] = states.Count.map(lambda x: round(x/120000)+1)\n",
    "states['Size'] = states.Size.map(lambda x: 7 if x>7 else x)\n",
    "\n",
    "plt.scatter(states.ARR_DELAY, states.CANCELLED, s=states.Size**3)\n",
    "\n",
    "x_max = max(states.ARR_DELAY)\n",
    "x_min = min(states.ARR_DELAY)\n",
    "\n",
    "y_max = max(states.CANCELLED)\n",
    "y_min = min(states.CANCELLED)\n",
    "\n",
    "x_len =  x_max - x_min\n",
    "y_len =  y_max - y_min\n",
    "\n",
    "x = x_len*.05\n",
    "y = y_len*.05\n",
    "\n",
    "plt.xlim(x_min-x, x_max+x)\n",
    "plt.ylim(y_min-y, y_max+y)\n",
    "plt.axhline(y=y_max-(y_len/2))\n",
    "plt.axvline(x_max - (x_len/2))\n",
    "\n",
    "for i, txt in enumerate(states.ORIGIN_STATE_ABR):\n",
    "    plt.annotate(txt, (states.ARR_DELAY[i], states.CANCELLED[i]));"
   ]
  },
  {
   "cell_type": "markdown",
   "metadata": {},
   "source": [
    "> There is variation among states in terms of delayed and cancelled flightes and also the quantity of flights.\n",
    "\n"
   ]
  },
  {
   "cell_type": "markdown",
   "metadata": {},
   "source": [
    "### Delay and cancellation factors with flights in terms of time (AM/PM)"
   ]
  },
  {
   "cell_type": "code",
   "execution_count": 137,
   "metadata": {},
   "outputs": [
    {
     "data": {
      "image/png": "[encoded data removed]",
      "text/plain": [
       "<Figure size 432x288 with 1 Axes>"
      ]
     },
     "metadata": {
      "needs_background": "light"
     },
     "output_type": "display_data"
    }
   ],
   "source": [
    "flights_mean = df.groupby(['OP_CARRIER_FL_NUM','DepTimePM'], as_index=False).mean()\n",
    "flights_count = df.groupby('OP_CARRIER_FL_NUM', as_index=False).count()\n",
    "\n",
    "flights = flights_mean[['OP_CARRIER_FL_NUM','DepTimePM', 'DEP_DELAY','CANCELLED']].merge(\n",
    "    flights_count[['OP_CARRIER_FL_NUM','FLIGHTS']], on='OP_CARRIER_FL_NUM'\n",
    ")\n",
    "flights.rename(columns={'FLIGHTS':'Count'}, inplace=True)\n",
    "\n",
    "Q1 = flights.quantile(.25)\n",
    "Q3 = flights.quantile(.75)\n",
    "IQ = Q3-Q1\n",
    "Q_max = Q3+IQ*1.5\n",
    "Q_min = Q1-IQ*1.5\n",
    "\n",
    "flights_filtered = flights[(flights.DEP_DELAY > Q_min.DEP_DELAY) & (flights.DEP_DELAY < Q_max.DEP_DELAY)]\n",
    "\n",
    "flights_filtered = flights_filtered[\n",
    "    (flights_filtered.Count > Q_min.Count) & (flights_filtered.Count < Q_max.Count)\n",
    "]\n",
    "\n",
    "flights_no_cxl = flights_filtered[flights_filtered.CANCELLED == 0]\n",
    "flights_filtered = flights_filtered[flights_filtered.CANCELLED > 0]\n",
    "\n",
    "flights_filtered.reset_index(inplace=True)\n",
    "\n",
    "flights_filtered = flights[flights.CANCELLED > 0]\n",
    "\n",
    "sb.scatterplot(flights_filtered.DEP_DELAY, flights_filtered.CANCELLED, alpha=.5, hue=flights_filtered.DepTimePM)\n",
    "\n",
    "# x_max = max(flights_filtered.DepDelay)\n",
    "x_max = 60\n",
    "x_min = min(flights_filtered.DEP_DELAY)\n",
    "\n",
    "# y_max = max(flights_filtered.Cancelled)\n",
    "y_max = .04\n",
    "y_min = min(flights_filtered.CANCELLED)\n",
    "\n",
    "x_len =  x_max - x_min\n",
    "y_len =  y_max - y_min\n",
    "\n",
    "x = x_len*.05\n",
    "y = y_len*.05\n",
    "\n",
    "plt.xlim(x_min-x, x_max+x)\n",
    "plt.ylim(y_min-y, y_max+y)\n",
    "plt.axhline(y=y_max-(y_len/2))\n",
    "plt.axvline(x=x_max - (x_len/2));"
   ]
  },
  {
   "cell_type": "markdown",
   "metadata": {},
   "source": [
    ">Cancelled flights are in AM flights, while PM flights have more delayed flights.\n",
    "\n"
   ]
  },
  {
   "cell_type": "markdown",
   "metadata": {},
   "source": [
    "> At the end of your report, make sure that you export the notebook as an\n",
    "html file from the `File > Download as... > HTML` menu. Make sure you keep\n",
    "track of where the exported file goes, so you can put it in the same folder\n",
    "as this notebook for project submission. Also, make sure you remove all of\n",
    "the quote-formatted guide notes like this one before you finish your report!"
   ]
  },
  {
   "cell_type": "code",
   "execution_count": null,
   "metadata": {},
   "outputs": [],
   "source": []
  }
 ],
 "metadata": {
  "kernelspec": {
   "display_name": "Python 3",
   "language": "python",
   "name": "python3"
  },
  "language_info": {
   "codemirror_mode": {
    "name": "ipython",
    "version": 3
   },
   "file_extension": ".py",
   "mimetype": "text/x-python",
   "name": "python",
   "nbconvert_exporter": "python",
   "pygments_lexer": "ipython3",
   "version": "3.7.6"
  }
 },
 "nbformat": 4,
 "nbformat_minor": 2
}
